{
  "nbformat": 4,
  "nbformat_minor": 0,
  "metadata": {
    "colab": {
      "name": "Task1.ipynb",
      "provenance": [],
      "collapsed_sections": [],
      "authorship_tag": "ABX9TyNu9o8e1iMZ7M5kW/0BF0We",
      "include_colab_link": true
    },
    "kernelspec": {
      "name": "python3",
      "display_name": "Python 3"
    },
    "language_info": {
      "name": "python"
    }
  },
  "cells": [
    {
      "cell_type": "markdown",
      "metadata": {
        "id": "view-in-github",
        "colab_type": "text"
      },
      "source": [
        "<a href=\"https://colab.research.google.com/github/saikumaranumala/letsupgrade/blob/main/Task1.ipynb\" target=\"_parent\"><img src=\"https://colab.research.google.com/assets/colab-badge.svg\" alt=\"Open In Colab\"/></a>"
      ]
    },
    {
      "cell_type": "markdown",
      "metadata": {
        "id": "5UOFf2cEhTa-"
      },
      "source": [
        "#GRIP : The Spark Foundation\n",
        "\n",
        "#Data Science and Business Analytics Intern\n",
        "\n",
        "\n",
        "\n",
        "\n"
      ]
    },
    {
      "cell_type": "markdown",
      "metadata": {
        "id": "anWT53jvIYtz"
      },
      "source": [
        "**TASK - 1 : PREDICTION USING SUPERVISED MACHINE LEARNING**"
      ]
    },
    {
      "cell_type": "markdown",
      "metadata": {
        "id": "fn0OLMoZIrx0"
      },
      "source": [
        "\n",
        "**NAME: SAI KUMAR ANUMALA**"
      ]
    },
    {
      "cell_type": "markdown",
      "metadata": {
        "id": "0CIHT-zgkoyi"
      },
      "source": [
        "**In this task we need to predict the percentage scorevof a student based on the number of hours studied. The task has two variables where the one is no.of hours studied and the other target value i.e, percentage score. This can be sovled using simple linear regression.**"
      ]
    },
    {
      "cell_type": "code",
      "metadata": {
        "id": "j2sy_oYBlqDq"
      },
      "source": [
        "#Importing libraries \n",
        "import pandas as pd \n",
        "import numpy as np\n",
        "import matplotlib.pyplot as pt\n",
        "%matplotlib  inline "
      ],
      "execution_count": 79,
      "outputs": []
    },
    {
      "cell_type": "markdown",
      "metadata": {
        "id": "ggVW0Bk1maWm"
      },
      "source": [
        "# ***Reading data from remote url***"
      ]
    },
    {
      "cell_type": "code",
      "metadata": {
        "colab": {
          "base_uri": "https://localhost:8080/"
        },
        "id": "8Dcr20Cvmlrl",
        "outputId": "d4146241-d437-4e61-c5e6-257dc1fda8bd"
      },
      "source": [
        "link = \"http://bit.ly/w-data\"\n",
        "data = pd.read_csv(link)\n",
        "print('data imported sucessfully')"
      ],
      "execution_count": 80,
      "outputs": [
        {
          "output_type": "stream",
          "text": [
            "data imported sucessfully\n"
          ],
          "name": "stdout"
        }
      ]
    },
    {
      "cell_type": "markdown",
      "metadata": {
        "id": "_mRqFjJ3nGK-"
      },
      "source": [
        "# ***Exploring Data***"
      ]
    },
    {
      "cell_type": "code",
      "metadata": {
        "colab": {
          "base_uri": "https://localhost:8080/",
          "height": 220
        },
        "id": "Ymq0o07Ykhkq",
        "outputId": "241d3264-79f0-472d-a223-5e4ba3e4192a"
      },
      "source": [
        "print(data.shape)\n",
        "data.head()"
      ],
      "execution_count": 81,
      "outputs": [
        {
          "output_type": "stream",
          "text": [
            "(25, 2)\n"
          ],
          "name": "stdout"
        },
        {
          "output_type": "execute_result",
          "data": {
            "text/html": [
              "<div>\n",
              "<style scoped>\n",
              "    .dataframe tbody tr th:only-of-type {\n",
              "        vertical-align: middle;\n",
              "    }\n",
              "\n",
              "    .dataframe tbody tr th {\n",
              "        vertical-align: top;\n",
              "    }\n",
              "\n",
              "    .dataframe thead th {\n",
              "        text-align: right;\n",
              "    }\n",
              "</style>\n",
              "<table border=\"1\" class=\"dataframe\">\n",
              "  <thead>\n",
              "    <tr style=\"text-align: right;\">\n",
              "      <th></th>\n",
              "      <th>Hours</th>\n",
              "      <th>Scores</th>\n",
              "    </tr>\n",
              "  </thead>\n",
              "  <tbody>\n",
              "    <tr>\n",
              "      <th>0</th>\n",
              "      <td>2.5</td>\n",
              "      <td>21</td>\n",
              "    </tr>\n",
              "    <tr>\n",
              "      <th>1</th>\n",
              "      <td>5.1</td>\n",
              "      <td>47</td>\n",
              "    </tr>\n",
              "    <tr>\n",
              "      <th>2</th>\n",
              "      <td>3.2</td>\n",
              "      <td>27</td>\n",
              "    </tr>\n",
              "    <tr>\n",
              "      <th>3</th>\n",
              "      <td>8.5</td>\n",
              "      <td>75</td>\n",
              "    </tr>\n",
              "    <tr>\n",
              "      <th>4</th>\n",
              "      <td>3.5</td>\n",
              "      <td>30</td>\n",
              "    </tr>\n",
              "  </tbody>\n",
              "</table>\n",
              "</div>"
            ],
            "text/plain": [
              "   Hours  Scores\n",
              "0    2.5      21\n",
              "1    5.1      47\n",
              "2    3.2      27\n",
              "3    8.5      75\n",
              "4    3.5      30"
            ]
          },
          "metadata": {
            "tags": []
          },
          "execution_count": 81
        }
      ]
    },
    {
      "cell_type": "code",
      "metadata": {
        "colab": {
          "base_uri": "https://localhost:8080/",
          "height": 295
        },
        "id": "nvgzbUiVnagO",
        "outputId": "7f99c6cc-a3a4-457d-e68f-eed5b3294457"
      },
      "source": [
        "data.describe()"
      ],
      "execution_count": 82,
      "outputs": [
        {
          "output_type": "execute_result",
          "data": {
            "text/html": [
              "<div>\n",
              "<style scoped>\n",
              "    .dataframe tbody tr th:only-of-type {\n",
              "        vertical-align: middle;\n",
              "    }\n",
              "\n",
              "    .dataframe tbody tr th {\n",
              "        vertical-align: top;\n",
              "    }\n",
              "\n",
              "    .dataframe thead th {\n",
              "        text-align: right;\n",
              "    }\n",
              "</style>\n",
              "<table border=\"1\" class=\"dataframe\">\n",
              "  <thead>\n",
              "    <tr style=\"text-align: right;\">\n",
              "      <th></th>\n",
              "      <th>Hours</th>\n",
              "      <th>Scores</th>\n",
              "    </tr>\n",
              "  </thead>\n",
              "  <tbody>\n",
              "    <tr>\n",
              "      <th>count</th>\n",
              "      <td>25.000000</td>\n",
              "      <td>25.000000</td>\n",
              "    </tr>\n",
              "    <tr>\n",
              "      <th>mean</th>\n",
              "      <td>5.012000</td>\n",
              "      <td>51.480000</td>\n",
              "    </tr>\n",
              "    <tr>\n",
              "      <th>std</th>\n",
              "      <td>2.525094</td>\n",
              "      <td>25.286887</td>\n",
              "    </tr>\n",
              "    <tr>\n",
              "      <th>min</th>\n",
              "      <td>1.100000</td>\n",
              "      <td>17.000000</td>\n",
              "    </tr>\n",
              "    <tr>\n",
              "      <th>25%</th>\n",
              "      <td>2.700000</td>\n",
              "      <td>30.000000</td>\n",
              "    </tr>\n",
              "    <tr>\n",
              "      <th>50%</th>\n",
              "      <td>4.800000</td>\n",
              "      <td>47.000000</td>\n",
              "    </tr>\n",
              "    <tr>\n",
              "      <th>75%</th>\n",
              "      <td>7.400000</td>\n",
              "      <td>75.000000</td>\n",
              "    </tr>\n",
              "    <tr>\n",
              "      <th>max</th>\n",
              "      <td>9.200000</td>\n",
              "      <td>95.000000</td>\n",
              "    </tr>\n",
              "  </tbody>\n",
              "</table>\n",
              "</div>"
            ],
            "text/plain": [
              "           Hours     Scores\n",
              "count  25.000000  25.000000\n",
              "mean    5.012000  51.480000\n",
              "std     2.525094  25.286887\n",
              "min     1.100000  17.000000\n",
              "25%     2.700000  30.000000\n",
              "50%     4.800000  47.000000\n",
              "75%     7.400000  75.000000\n",
              "max     9.200000  95.000000"
            ]
          },
          "metadata": {
            "tags": []
          },
          "execution_count": 82
        }
      ]
    },
    {
      "cell_type": "markdown",
      "metadata": {
        "id": "K3lhvUBvodfy"
      },
      "source": [
        "**Now we can  plot our data points on 2-D graph to checking insight of our dataset and check if we can manually find any relationship between the data. We can create the plot with the following script:**"
      ]
    },
    {
      "cell_type": "code",
      "metadata": {
        "colab": {
          "base_uri": "https://localhost:8080/",
          "height": 295
        },
        "id": "c8AK-9WGo-FC",
        "outputId": "dc11121c-a210-4c2d-8e8a-1ae5b38a7fce"
      },
      "source": [
        "#plotting the distribution of scores\n",
        "data.plot(style='o',x='Hours',y='Scores');\n",
        "pt.title('Hours vs Scores')\n",
        "pt.xlabel('Hours studied')\n",
        "pt.ylabel('Percentage Scores')\n",
        "pt.show()"
      ],
      "execution_count": 83,
      "outputs": [
        {
          "output_type": "display_data",
          "data": {
            "image/png": "[encoded data removed]",
            "text/plain": [
              "<Figure size 432x288 with 1 Axes>"
            ]
          },
          "metadata": {
            "tags": [],
            "needs_background": "light"
          }
        }
      ]
    },
    {
      "cell_type": "markdown",
      "metadata": {
        "id": "Fi2WFIO-rXJA"
      },
      "source": [
        "**Now we can find a correlation .The correlation which gives to identifies the cofficent degrees that points ,having relation or not. In which pearson's method helps to measuring the strength of the assosiation between two continious variables .**"
      ]
    },
    {
      "cell_type": "code",
      "metadata": {
        "colab": {
          "base_uri": "https://localhost:8080/",
          "height": 110
        },
        "id": "pLWfTyrvsJgL",
        "outputId": "86529e41-371c-45c6-a0ff-31892ecbc69d"
      },
      "source": [
        "data.corr(method='pearson')"
      ],
      "execution_count": 84,
      "outputs": [
        {
          "output_type": "execute_result",
          "data": {
            "text/html": [
              "<div>\n",
              "<style scoped>\n",
              "    .dataframe tbody tr th:only-of-type {\n",
              "        vertical-align: middle;\n",
              "    }\n",
              "\n",
              "    .dataframe tbody tr th {\n",
              "        vertical-align: top;\n",
              "    }\n",
              "\n",
              "    .dataframe thead th {\n",
              "        text-align: right;\n",
              "    }\n",
              "</style>\n",
              "<table border=\"1\" class=\"dataframe\">\n",
              "  <thead>\n",
              "    <tr style=\"text-align: right;\">\n",
              "      <th></th>\n",
              "      <th>Hours</th>\n",
              "      <th>Scores</th>\n",
              "    </tr>\n",
              "  </thead>\n",
              "  <tbody>\n",
              "    <tr>\n",
              "      <th>Hours</th>\n",
              "      <td>1.000000</td>\n",
              "      <td>0.976191</td>\n",
              "    </tr>\n",
              "    <tr>\n",
              "      <th>Scores</th>\n",
              "      <td>0.976191</td>\n",
              "      <td>1.000000</td>\n",
              "    </tr>\n",
              "  </tbody>\n",
              "</table>\n",
              "</div>"
            ],
            "text/plain": [
              "           Hours    Scores\n",
              "Hours   1.000000  0.976191\n",
              "Scores  0.976191  1.000000"
            ]
          },
          "metadata": {
            "tags": []
          },
          "execution_count": 84
        }
      ]
    },
    {
      "cell_type": "markdown",
      "metadata": {
        "id": "mB_N4afquQl2"
      },
      "source": [
        "**As per above result , if the number of hours increased then Scores will be increased . And also conclude there is a positive linear relation between the Hours and Scores.**   "
      ]
    },
    {
      "cell_type": "markdown",
      "metadata": {
        "id": "u9FVv_S1ylLW"
      },
      "source": [
        "# ***Linear Regression***"
      ]
    },
    {
      "cell_type": "code",
      "metadata": {
        "id": "wcVMzSLZu37w"
      },
      "source": [
        "X = data.iloc[:,:-1].values\n",
        "y = data.iloc[:,1].values"
      ],
      "execution_count": 85,
      "outputs": []
    },
    {
      "cell_type": "code",
      "metadata": {
        "id": "Zx8rvkW63euj"
      },
      "source": [
        "from sklearn.model_selection import train_test_split\n",
        "X_train,X_test,y_train,y_test=train_test_split(X,y,test_size = 0.2,random_state = 0)"
      ],
      "execution_count": 37,
      "outputs": []
    },
    {
      "cell_type": "markdown",
      "metadata": {
        "id": "j98sZNfm4agN"
      },
      "source": [
        "**Training the Alogorithm**"
      ]
    },
    {
      "cell_type": "markdown",
      "metadata": {
        "id": "AnHk6JkD4lq3"
      },
      "source": [
        "*Here we splitted our data into training and testing sets, in which we need to train the train sets using the fit function importing the LinearRegresssion method*"
      ]
    },
    {
      "cell_type": "code",
      "metadata": {
        "colab": {
          "base_uri": "https://localhost:8080/"
        },
        "id": "D_oS1HJQ20J9",
        "outputId": "5f8fccbd-e277-49bf-95ae-0a1b90ea2e3c"
      },
      "source": [
        "from sklearn.linear_model import LinearRegression\n",
        "reg = LinearRegression()\n",
        "reg.fit(X_train,y_train)\n",
        "print('The training sets trained')\n"
      ],
      "execution_count": 86,
      "outputs": [
        {
          "output_type": "stream",
          "text": [
            "The training sets trained\n"
          ],
          "name": "stdout"
        }
      ]
    },
    {
      "cell_type": "code",
      "metadata": {
        "colab": {
          "base_uri": "https://localhost:8080/",
          "height": 265
        },
        "id": "TXkr4uMp2U_J",
        "outputId": "5c4eaa1a-13e5-4f3b-fe3f-60f48b30220e"
      },
      "source": [
        "#plotting the regression line\n",
        "m=reg.coef_\n",
        "c = reg.intercept_\n",
        "line = m*X+c\n",
        "pt.scatter(X,y)\n",
        "pt.plot(X,line);\n",
        "pt.show()"
      ],
      "execution_count": 87,
      "outputs": [
        {
          "output_type": "display_data",
          "data": {
            "image/png": "[encoded data removed]",
            "text/plain": [
              "<Figure size 432x288 with 1 Axes>"
            ]
          },
          "metadata": {
            "tags": [],
            "needs_background": "light"
          }
        }
      ]
    },
    {
      "cell_type": "markdown",
      "metadata": {
        "id": "AONtURDCJgll"
      },
      "source": [
        "****After seeing the scatter plot of the data they cannot be any line in which all the points falls.In which Sklearn does , finds the lines actual vs pdetict points is minimum.\n",
        "Basically, The sum of the diff. of pred.values and actual values of Scores has to be minimum.****"
      ]
    },
    {
      "cell_type": "markdown",
      "metadata": {
        "id": "XE9OpJ1A8kSr"
      },
      "source": [
        "# Making Predictions"
      ]
    },
    {
      "cell_type": "code",
      "metadata": {
        "colab": {
          "base_uri": "https://localhost:8080/"
        },
        "id": "t7D98jMwjMQm",
        "outputId": "dc66a5ce-2241-4146-e952-98d13c3190c8"
      },
      "source": [
        "#Testing data - in Hours\n",
        "print(X_test) \n",
        "#Predicting the scores\n",
        "y_pred = reg.predict(X_test)"
      ],
      "execution_count": 49,
      "outputs": [
        {
          "output_type": "stream",
          "text": [
            "[[1.5]\n",
            " [3.2]\n",
            " [7.4]\n",
            " [2.5]\n",
            " [5.9]]\n"
          ],
          "name": "stdout"
        }
      ]
    },
    {
      "cell_type": "code",
      "metadata": {
        "colab": {
          "base_uri": "https://localhost:8080/",
          "height": 203
        },
        "id": "oUVbtv7P9lJM",
        "outputId": "fa6de324-1d1e-4a2c-e366-324ab502fd7c"
      },
      "source": [
        "#Comparing Actual  VS Predict values\n",
        "df = pd.DataFrame({'Actual ': y_test,'Predicted' : y_pred})\n",
        "df"
      ],
      "execution_count": 52,
      "outputs": [
        {
          "output_type": "execute_result",
          "data": {
            "text/html": [
              "<div>\n",
              "<style scoped>\n",
              "    .dataframe tbody tr th:only-of-type {\n",
              "        vertical-align: middle;\n",
              "    }\n",
              "\n",
              "    .dataframe tbody tr th {\n",
              "        vertical-align: top;\n",
              "    }\n",
              "\n",
              "    .dataframe thead th {\n",
              "        text-align: right;\n",
              "    }\n",
              "</style>\n",
              "<table border=\"1\" class=\"dataframe\">\n",
              "  <thead>\n",
              "    <tr style=\"text-align: right;\">\n",
              "      <th></th>\n",
              "      <th>Actual</th>\n",
              "      <th>Predicted</th>\n",
              "    </tr>\n",
              "  </thead>\n",
              "  <tbody>\n",
              "    <tr>\n",
              "      <th>0</th>\n",
              "      <td>20</td>\n",
              "      <td>16.884145</td>\n",
              "    </tr>\n",
              "    <tr>\n",
              "      <th>1</th>\n",
              "      <td>27</td>\n",
              "      <td>33.732261</td>\n",
              "    </tr>\n",
              "    <tr>\n",
              "      <th>2</th>\n",
              "      <td>69</td>\n",
              "      <td>75.357018</td>\n",
              "    </tr>\n",
              "    <tr>\n",
              "      <th>3</th>\n",
              "      <td>30</td>\n",
              "      <td>26.794801</td>\n",
              "    </tr>\n",
              "    <tr>\n",
              "      <th>4</th>\n",
              "      <td>62</td>\n",
              "      <td>60.491033</td>\n",
              "    </tr>\n",
              "  </tbody>\n",
              "</table>\n",
              "</div>"
            ],
            "text/plain": [
              "   Actual   Predicted\n",
              "0       20  16.884145\n",
              "1       27  33.732261\n",
              "2       69  75.357018\n",
              "3       30  26.794801\n",
              "4       62  60.491033"
            ]
          },
          "metadata": {
            "tags": []
          },
          "execution_count": 52
        }
      ]
    },
    {
      "cell_type": "code",
      "metadata": {
        "colab": {
          "base_uri": "https://localhost:8080/"
        },
        "id": "vEb-orxu-kPs",
        "outputId": "3621a5d5-36be-4b82-a08f-bde525ddabe0"
      },
      "source": [
        "#We can test with our own data\n",
        "hours = 9.25\n",
        "own_pred = reg.predict([[hours]])\n",
        "print('No.Hours ={}'.format(hrs))\n",
        "print('Predicted score ={}'.format(own_pred[0]))"
      ],
      "execution_count": 74,
      "outputs": [
        {
          "output_type": "stream",
          "text": [
            "No.Hours =9.25\n",
            "Predicted score =93.69173248737539\n"
          ],
          "name": "stdout"
        }
      ]
    },
    {
      "cell_type": "code",
      "metadata": {
        "colab": {
          "base_uri": "https://localhost:8080/"
        },
        "id": "fn9fsvkQDhPc",
        "outputId": "8fa55152-ac4c-41ee-968c-d439ba5f7c9d"
      },
      "source": [
        "print('if the student studies {} hours per day he/she will scores {} % in exam.'.format(hours,own_pred))"
      ],
      "execution_count": 75,
      "outputs": [
        {
          "output_type": "stream",
          "text": [
            "if the student studies 9.25 hours per day he/she will scores [93.69173249] % in exam.\n"
          ],
          "name": "stdout"
        }
      ]
    },
    {
      "cell_type": "markdown",
      "metadata": {
        "id": "tjTBD5bxEBn_"
      },
      "source": [
        "# Model Evaluation"
      ]
    },
    {
      "cell_type": "markdown",
      "metadata": {
        "id": "I_gfc4-cFtD2"
      },
      "source": [
        "*Now we are in final stage to calculating the perfomance of algorithm.from this evaluating the algorithms on a particular dataset.And also finding the Score of the regression Function.*\n"
      ]
    },
    {
      "cell_type": "markdown",
      "metadata": {
        "id": "N80skOv_HjRZ"
      },
      "source": [
        "**Through the metrics ,I've choosen the mean square error and \n",
        "imported the  R2_score for regression score**"
      ]
    },
    {
      "cell_type": "code",
      "metadata": {
        "colab": {
          "base_uri": "https://localhost:8080/"
        },
        "id": "wCU5T1MaEJaS",
        "outputId": "35768263-0a8e-4532-bce6-b74c33ce2210"
      },
      "source": [
        "from sklearn import metrics\n",
        "from sklearn.metrics import r2_score #optional \n",
        "print('Mean Absolute error:',metrics.mean_absolute_error(y_test,y_pred))\n",
        "print('Regression score ',r2_score(y_test,y_pred))"
      ],
      "execution_count": 78,
      "outputs": [
        {
          "output_type": "stream",
          "text": [
            "Mean Absolute error: 4.183859899002982\n",
            "Regression score  0.9454906892105354\n"
          ],
          "name": "stdout"
        }
      ]
    }
  ]
}