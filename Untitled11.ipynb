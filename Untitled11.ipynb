{
 "cells": [
  {
   "cell_type": "markdown",
   "metadata": {},
   "source": [
    "# Qustion 1"
   ]
  },
  {
   "cell_type": "code",
   "execution_count": 4,
   "metadata": {},
   "outputs": [
    {
     "name": "stdout",
     "output_type": "stream",
     "text": [
      "This is a word OBANWRI you should correct it!! \n",
      " choose from below options:\n",
      " b\n",
      "Yes! Thats perfect\n"
     ]
    }
   ],
   "source": [
    "a = input(\"This is a word OBANWRI you should correct it!! \\n choose from below options:\\n \")\n",
    "A = 'RANIBOW'\n",
    "B = 'RAINBOW'\n",
    "C = 'OBANWRI'\n",
    "D = 'BOWRAIN'\n",
    "if (B == B):\n",
    "  print(\"Yes! Thats perfect\")\n",
    "else:\n",
    "  print(\"please choose correct answer\")"
   ]
  },
  {
   "cell_type": "markdown",
   "metadata": {},
   "source": [
    "# Question 2\n"
   ]
  },
  {
   "cell_type": "code",
   "execution_count": 6,
   "metadata": {},
   "outputs": [
    {
     "name": "stdout",
     "output_type": "stream",
     "text": [
      "please enter any number \n",
      "23\n",
      "LETS UPGRADE\n"
     ]
    }
   ],
   "source": [
    "a = int(input(\"please enter any number \\n\"))\n",
    "if (a %2 == 0 or a %2 != 0):\n",
    "  print(\"LETS UPGRADE\")\n",
    "else:\n",
    "  print(\"Enter valid number\")"
   ]
  },
  {
   "cell_type": "markdown",
   "metadata": {},
   "source": [
    "# Question 3"
   ]
  },
  {
   "cell_type": "code",
   "execution_count": 8,
   "metadata": {},
   "outputs": [
    {
     "name": "stdout",
     "output_type": "stream",
     "text": [
      "40\n",
      "50\n",
      "Profit\n"
     ]
    }
   ],
   "source": [
    "a = int(input())\n",
    "b = int(input())\n",
    "out = b - a\n",
    "if (b > 0 ) :\n",
    "    print(\"Profit\")\n",
    "elif (b < 0) :\n",
    "    print(\"Loss\")\n",
    "else :\n",
    "    print(\"Neither\")"
   ]
  },
  {
   "cell_type": "markdown",
   "metadata": {},
   "source": [
    "# Question 4"
   ]
  },
  {
   "cell_type": "code",
   "execution_count": 5,
   "metadata": {},
   "outputs": [
    {
     "name": "stdout",
     "output_type": "stream",
     "text": [
      "70\n",
      "70 5600\n"
     ]
    }
   ],
   "source": [
    "a = int(input())\n",
    "op = 80 * a\n",
    "print(a ,  op)"
   ]
  }
 ],
 "metadata": {
  "kernelspec": {
   "display_name": "Python 3",
   "language": "python",
   "name": "python3"
  },
  "language_info": {
   "codemirror_mode": {
    "name": "ipython",
    "version": 3
   },
   "file_extension": ".py",
   "mimetype": "text/x-python",
   "name": "python",
   "nbconvert_exporter": "python",
   "pygments_lexer": "ipython3",
   "version": "3.7.3"
  }
 },
 "nbformat": 4,
 "nbformat_minor": 2
}
